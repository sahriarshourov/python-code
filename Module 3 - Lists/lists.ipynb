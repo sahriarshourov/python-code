{
 "cells": [
  {
   "cell_type": "markdown",
   "id": "ca1e2918",
   "metadata": {},
   "source": [
    "List allow you to store sets of information in a one place .. \n",
    "List - []\n",
    "Dictionary - {}"
   ]
  },
  {
   "cell_type": "markdown",
   "id": "9fd0c93e",
   "metadata": {},
   "source": []
  }
 ],
 "metadata": {
  "language_info": {
   "name": "python"
  }
 },
 "nbformat": 4,
 "nbformat_minor": 5
}
