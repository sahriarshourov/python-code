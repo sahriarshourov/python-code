{
 "cells": [
  {
   "cell_type": "markdown",
   "id": "ca1e2918",
   "metadata": {},
   "source": [
    "# List allow you to store sets of information in a one place .. \n",
    "# List - [] ,Dictionary - {}\n",
    "# List are ordered collection so can access any elements in  a list by telling python the position.\n"
   ]
  },
  {
   "cell_type": "code",
   "execution_count": 6,
   "id": "06fc30e5",
   "metadata": {},
   "outputs": [
    {
     "name": "stdout",
     "output_type": "stream",
     "text": [
      "range Rover\n"
     ]
    }
   ],
   "source": [
    "myList =  ['BMW' , 'range Rover', 'Audi']\n",
    "print(myList[1])"
   ]
  },
  {
   "cell_type": "markdown",
   "id": "e7c3b0ab",
   "metadata": {},
   "source": [
    "# You can format the element to look more presentable by using the title() method."
   ]
  },
  {
   "cell_type": "code",
   "execution_count": 7,
   "id": "705e3723",
   "metadata": {},
   "outputs": [
    {
     "name": "stdout",
     "output_type": "stream",
     "text": [
      "Range Rover\n"
     ]
    }
   ],
   "source": [
    "myList =  ['BMW' , 'range Rover', 'Audi']\n",
    "print(myList[1].title())"
   ]
  },
  {
   "cell_type": "code",
   "execution_count": null,
   "id": "b9c2921c",
   "metadata": {},
   "outputs": [],
   "source": []
  }
 ],
 "metadata": {
  "kernelspec": {
   "display_name": "Python 3",
   "language": "python",
   "name": "python3"
  },
  "language_info": {
   "codemirror_mode": {
    "name": "ipython",
    "version": 3
   },
   "file_extension": ".py",
   "mimetype": "text/x-python",
   "name": "python",
   "nbconvert_exporter": "python",
   "pygments_lexer": "ipython3",
   "version": "3.12.4"
  }
 },
 "nbformat": 4,
 "nbformat_minor": 5
}
